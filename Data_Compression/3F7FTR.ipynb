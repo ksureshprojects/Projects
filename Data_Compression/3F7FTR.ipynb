{
 "cells": [
  {
   "cell_type": "code",
   "execution_count": 1,
   "metadata": {
    "scrolled": true
   },
   "outputs": [
    {
     "data": {
      "text/html": [
       "<script>requirejs.config({paths: { 'plotly': ['https://cdn.plot.ly/plotly-latest.min']},});if(!window.Plotly) {{require(['plotly'],function(plotly) {window.Plotly=plotly;});}}</script>"
      ],
      "text/vnd.plotly.v1+html": [
       "<script>requirejs.config({paths: { 'plotly': ['https://cdn.plot.ly/plotly-latest.min']},});if(!window.Plotly) {{require(['plotly'],function(plotly) {window.Plotly=plotly;});}}</script>"
      ]
     },
     "metadata": {},
     "output_type": "display_data"
    }
   ],
   "source": [
    "from trees import *\n",
    "from itertools import groupby\n",
    "from camzip import camzip\n",
    "from camunzip import camunzip\n",
    "from filecmp import cmp\n",
    "from os import stat\n",
    "from json import load\n",
    "import arithmeticac as arith\n",
    "from math import log2\n",
    "import time\n",
    "import pandas as pd \n",
    "import numpy as np\n",
    "import matplotlib.pyplot as plt\n",
    "import plotly\n",
    "import plotly.plotly as py\n",
    "import plotly.graph_objs as go\n",
    "from plotly.offline import download_plotlyjs, init_notebook_mode, plot, iplot\n",
    "%matplotlib inline\n",
    "plotly.tools.set_credentials_file(username='karthikuwc', api_key='Ti2Ixf9lXS509cNR6Eus')\n",
    "\n",
    "init_notebook_mode(connected=True)"
   ]
  },
  {
   "cell_type": "markdown",
   "metadata": {},
   "source": [
    "### 1. General Results (Non-Adaptive Coding Methods)"
   ]
  },
  {
   "cell_type": "code",
   "execution_count": 2,
   "metadata": {},
   "outputs": [],
   "source": [
    "filename = 'hamlet.txt'\n",
    "Nin = stat(filename).st_size"
   ]
  },
  {
   "cell_type": "markdown",
   "metadata": {},
   "source": [
    "##### 1.1 Entropy of test file"
   ]
  },
  {
   "cell_type": "code",
   "execution_count": 3,
   "metadata": {},
   "outputs": [
    {
     "name": "stdout",
     "output_type": "stream",
     "text": [
      "Entropy: 4.449863631694343 bits per symbol\n"
     ]
    }
   ],
   "source": [
    "H = lambda pr: -sum([pr[a]*log2(pr[a]) for a in pr])\n",
    "with open(filename + '.czp', 'r') as fp:\n",
    "    freq = load(fp)\n",
    "pf = dict([(a, freq[a]/Nin) for a in freq])\n",
    "print(f'Entropy: {H(pf)} bits per symbol')"
   ]
  },
  {
   "cell_type": "markdown",
   "metadata": {},
   "source": [
    "##### 1.2 Arithmetic Coding"
   ]
  },
  {
   "cell_type": "code",
   "execution_count": 15,
   "metadata": {},
   "outputs": [
    {
     "name": "stdout",
     "output_type": "stream",
     "text": [
      "Time taken: 6.2424468994140625\n",
      "Length of original file: 207039 bytes\n",
      "Length of compressed file: 115163 bytes\n",
      "Compression rate: 4.449905573346085 bits/byte\n",
      "The two files are the same\n"
     ]
    }
   ],
   "source": [
    "method = 'arithmetic'\n",
    "start = time.time()\n",
    "camzip(method, filename)\n",
    "camunzip(filename + '.cz' + method[0])\n",
    "finish = time.time()\n",
    "print(f'Time taken: {finish-start}')\n",
    "\n",
    "\n",
    "\n",
    "Nin = stat(filename).st_size\n",
    "print(f'Length of original file: {Nin} bytes')\n",
    "Nout = stat(filename + '.cz' + method[0]).st_size\n",
    "reg = 8.0*Nout/Nin\n",
    "print(f'Length of compressed file: {Nout} bytes')\n",
    "print(f'Compression rate: {8.0*Nout/Nin} bits/byte')\n",
    "if cmp(filename,filename+'.cuz'):\n",
    "    print('The two files are the same')\n",
    "else:\n",
    "    print('The files are different')"
   ]
  },
  {
   "cell_type": "markdown",
   "metadata": {},
   "source": [
    "##### 1.3 Huffman Coding"
   ]
  },
  {
   "cell_type": "code",
   "execution_count": 16,
   "metadata": {},
   "outputs": [
    {
     "name": "stdout",
     "output_type": "stream",
     "text": [
      "Time taken: 1.2455449104309082\n",
      "Length of original file: 207039 bytes\n",
      "Length of compressed file: 115752 bytes\n",
      "Compression rate: 4.47266457044325 bits/byte\n",
      "The two files are the same\n"
     ]
    }
   ],
   "source": [
    "method = 'huffman'\n",
    "start = time.time()\n",
    "camzip(method, filename)\n",
    "camunzip(filename + '.cz' + method[0])\n",
    "finish = time.time()\n",
    "print(f'Time taken: {finish-start}')\n",
    "\n",
    "\n",
    "Nin = stat(filename).st_size\n",
    "print(f'Length of original file: {Nin} bytes')\n",
    "Nout = stat(filename + '.cz' + method[0]).st_size\n",
    "huf = 8.0*Nout/Nin\n",
    "print(f'Length of compressed file: {Nout} bytes')\n",
    "print(f'Compression rate: {8.0*Nout/Nin} bits/byte')\n",
    "if cmp(filename,filename+'.cuz'):\n",
    "    print('The two files are the same')\n",
    "else:\n",
    "    print('The files are different')"
   ]
  },
  {
   "cell_type": "markdown",
   "metadata": {},
   "source": [
    "##### 1.4 Shannon-Fano Coding"
   ]
  },
  {
   "cell_type": "code",
   "execution_count": 17,
   "metadata": {},
   "outputs": [
    {
     "name": "stdout",
     "output_type": "stream",
     "text": [
      "Time taken: 1.3464257717132568\n",
      "Length of original file: 207039 bytes\n",
      "Length of compressed file: 124694 bytes\n",
      "Compression rate: 4.818184013639942 bits/byte\n",
      "The two files are the same\n"
     ]
    }
   ],
   "source": [
    "method = 'shannon_fano'\n",
    "\n",
    "start = time.time()\n",
    "camzip(method, filename)\n",
    "camunzip(filename + '.cz' + method[0])\n",
    "finish = time.time()\n",
    "print(f'Time taken: {finish-start}')\n",
    "\n",
    "\n",
    "\n",
    "Nin = stat(filename).st_size\n",
    "print(f'Length of original file: {Nin} bytes')\n",
    "Nout = stat(filename + '.cz' + method[0]).st_size\n",
    "sha = 8.0*Nout/Nin\n",
    "print(f'Length of compressed file: {Nout} bytes')\n",
    "print(f'Compression rate: {8.0*Nout/Nin} bits/byte')\n",
    "if cmp(filename,filename+'.cuz'):\n",
    "    print('The two files are the same')\n",
    "else:\n",
    "    print('The files are different')"
   ]
  },
  {
   "cell_type": "markdown",
   "metadata": {},
   "source": [
    "### 2. Adaptive Arithmetic Coding"
   ]
  },
  {
   "cell_type": "markdown",
   "metadata": {},
   "source": [
    "##### 2.1 Simulation to explore the effect of limiting adaptive model to N samples\n",
    "\n",
    "The following simulation is conducted for a initial bias value of 0.1. The iterations are conducted over the values of 'N' in 'model_limit'. N = 0 corresponds to the fully adaptive model, NOT 0 limit. The simulation is successful if the output doesn't print 'The files are different'."
   ]
  },
  {
   "cell_type": "code",
   "execution_count": 8,
   "metadata": {},
   "outputs": [
    {
     "name": "stdout",
     "output_type": "stream",
     "text": [
      "Arithmetic decoded 99%    \r"
     ]
    },
    {
     "data": {
      "text/html": [
       "<div>\n",
       "<style>\n",
       "    .dataframe thead tr:only-child th {\n",
       "        text-align: right;\n",
       "    }\n",
       "\n",
       "    .dataframe thead th {\n",
       "        text-align: left;\n",
       "    }\n",
       "\n",
       "    .dataframe tbody tr th {\n",
       "        vertical-align: top;\n",
       "    }\n",
       "</style>\n",
       "<table border=\"1\" class=\"dataframe\">\n",
       "  <thead>\n",
       "    <tr style=\"text-align: right;\">\n",
       "      <th></th>\n",
       "      <th>Model Limit</th>\n",
       "      <th>Times</th>\n",
       "      <th>Compression Rate</th>\n",
       "    </tr>\n",
       "  </thead>\n",
       "  <tbody>\n",
       "    <tr>\n",
       "      <th>0</th>\n",
       "      <td>50</td>\n",
       "      <td>7.446595</td>\n",
       "      <td>6.590913</td>\n",
       "    </tr>\n",
       "    <tr>\n",
       "      <th>1</th>\n",
       "      <td>100</td>\n",
       "      <td>7.336657</td>\n",
       "      <td>6.075454</td>\n",
       "    </tr>\n",
       "    <tr>\n",
       "      <th>2</th>\n",
       "      <td>200</td>\n",
       "      <td>6.892543</td>\n",
       "      <td>5.014630</td>\n",
       "    </tr>\n",
       "    <tr>\n",
       "      <th>3</th>\n",
       "      <td>400</td>\n",
       "      <td>6.914430</td>\n",
       "      <td>5.053541</td>\n",
       "    </tr>\n",
       "    <tr>\n",
       "      <th>4</th>\n",
       "      <td>800</td>\n",
       "      <td>6.909506</td>\n",
       "      <td>4.934143</td>\n",
       "    </tr>\n",
       "    <tr>\n",
       "      <th>5</th>\n",
       "      <td>1600</td>\n",
       "      <td>6.868328</td>\n",
       "      <td>4.788740</td>\n",
       "    </tr>\n",
       "    <tr>\n",
       "      <th>6</th>\n",
       "      <td>3200</td>\n",
       "      <td>7.097572</td>\n",
       "      <td>4.608909</td>\n",
       "    </tr>\n",
       "    <tr>\n",
       "      <th>7</th>\n",
       "      <td>6400</td>\n",
       "      <td>7.446874</td>\n",
       "      <td>4.510725</td>\n",
       "    </tr>\n",
       "    <tr>\n",
       "      <th>8</th>\n",
       "      <td>12800</td>\n",
       "      <td>7.878140</td>\n",
       "      <td>4.472974</td>\n",
       "    </tr>\n",
       "    <tr>\n",
       "      <th>9</th>\n",
       "      <td>25600</td>\n",
       "      <td>8.994287</td>\n",
       "      <td>4.460609</td>\n",
       "    </tr>\n",
       "    <tr>\n",
       "      <th>10</th>\n",
       "      <td>51200</td>\n",
       "      <td>10.431027</td>\n",
       "      <td>4.458136</td>\n",
       "    </tr>\n",
       "    <tr>\n",
       "      <th>11</th>\n",
       "      <td>0</td>\n",
       "      <td>22.615704</td>\n",
       "      <td>4.452688</td>\n",
       "    </tr>\n",
       "  </tbody>\n",
       "</table>\n",
       "</div>"
      ],
      "text/plain": [
       "    Model Limit      Times  Compression Rate\n",
       "0            50   7.446595          6.590913\n",
       "1           100   7.336657          6.075454\n",
       "2           200   6.892543          5.014630\n",
       "3           400   6.914430          5.053541\n",
       "4           800   6.909506          4.934143\n",
       "5          1600   6.868328          4.788740\n",
       "6          3200   7.097572          4.608909\n",
       "7          6400   7.446874          4.510725\n",
       "8         12800   7.878140          4.472974\n",
       "9         25600   8.994287          4.460609\n",
       "10        51200  10.431027          4.458136\n",
       "11            0  22.615704          4.452688"
      ]
     },
     "execution_count": 8,
     "metadata": {},
     "output_type": "execute_result"
    }
   ],
   "source": [
    "method = 'carithmeticac'\n",
    "model_limit = [50,100,200,400,800,1600,3200,6400,12800,25600,51200,0] #0 corressponds to full adaptive model\n",
    "times = []\n",
    "compression = []\n",
    "for i in model_limit:\n",
    "    start = time.time()\n",
    "    camzip(method, filename, num=i)\n",
    "    camunzip(filename + '.cz' + method[0],num=i)\n",
    "    finish = time.time()\n",
    "    times.append(round(finish-start,6))\n",
    "    Nout = stat(filename + '.cz' + method[0]).st_size\n",
    "    compression.append(8.0*Nout/Nin)\n",
    "    if not cmp(filename,filename+'.cuz'):\n",
    "        print('The files are different')\n",
    "df = pd.DataFrame()\n",
    "df['Model Limit'] = np.array(model_limit)\n",
    "df['Times'] = np.array(times)\n",
    "df['Compression Rate'] = np.array(compression)\n",
    "df.to_csv(\"model_test_0_1-1.csv\")\n",
    "df"
   ]
  },
  {
   "cell_type": "markdown",
   "metadata": {},
   "source": [
    "The following simulation is conducted for a initial bias value of 0.1. The iterations are conducted over the values of 'N' in 'model_limit'. N = 0 corresponds to the fully adaptive model, NOT 0 limit. The simulation is successful if the output doesn't print 'The files are different'."
   ]
  },
  {
   "cell_type": "code",
   "execution_count": 9,
   "metadata": {},
   "outputs": [
    {
     "name": "stdout",
     "output_type": "stream",
     "text": [
      "Arithmetic decoded 99%    \r"
     ]
    },
    {
     "data": {
      "text/html": [
       "<div>\n",
       "<style>\n",
       "    .dataframe thead tr:only-child th {\n",
       "        text-align: right;\n",
       "    }\n",
       "\n",
       "    .dataframe thead th {\n",
       "        text-align: left;\n",
       "    }\n",
       "\n",
       "    .dataframe tbody tr th {\n",
       "        vertical-align: top;\n",
       "    }\n",
       "</style>\n",
       "<table border=\"1\" class=\"dataframe\">\n",
       "  <thead>\n",
       "    <tr style=\"text-align: right;\">\n",
       "      <th></th>\n",
       "      <th>Model Limit</th>\n",
       "      <th>Times</th>\n",
       "      <th>Compression Rate</th>\n",
       "    </tr>\n",
       "  </thead>\n",
       "  <tbody>\n",
       "    <tr>\n",
       "      <th>0</th>\n",
       "      <td>0</td>\n",
       "      <td>22.802954</td>\n",
       "      <td>4.453229</td>\n",
       "    </tr>\n",
       "    <tr>\n",
       "      <th>1</th>\n",
       "      <td>50</td>\n",
       "      <td>8.257687</td>\n",
       "      <td>8.574423</td>\n",
       "    </tr>\n",
       "    <tr>\n",
       "      <th>2</th>\n",
       "      <td>100</td>\n",
       "      <td>7.756586</td>\n",
       "      <td>7.068736</td>\n",
       "    </tr>\n",
       "    <tr>\n",
       "      <th>3</th>\n",
       "      <td>200</td>\n",
       "      <td>6.792676</td>\n",
       "      <td>5.231826</td>\n",
       "    </tr>\n",
       "    <tr>\n",
       "      <th>4</th>\n",
       "      <td>400</td>\n",
       "      <td>6.865954</td>\n",
       "      <td>5.197398</td>\n",
       "    </tr>\n",
       "    <tr>\n",
       "      <th>5</th>\n",
       "      <td>800</td>\n",
       "      <td>6.827889</td>\n",
       "      <td>4.980859</td>\n",
       "    </tr>\n",
       "    <tr>\n",
       "      <th>6</th>\n",
       "      <td>1600</td>\n",
       "      <td>6.742874</td>\n",
       "      <td>4.793454</td>\n",
       "    </tr>\n",
       "    <tr>\n",
       "      <th>7</th>\n",
       "      <td>3200</td>\n",
       "      <td>6.947442</td>\n",
       "      <td>4.608291</td>\n",
       "    </tr>\n",
       "    <tr>\n",
       "      <th>8</th>\n",
       "      <td>6400</td>\n",
       "      <td>7.121393</td>\n",
       "      <td>4.510030</td>\n",
       "    </tr>\n",
       "    <tr>\n",
       "      <th>9</th>\n",
       "      <td>12800</td>\n",
       "      <td>7.378564</td>\n",
       "      <td>4.473012</td>\n",
       "    </tr>\n",
       "    <tr>\n",
       "      <th>10</th>\n",
       "      <td>25600</td>\n",
       "      <td>8.346926</td>\n",
       "      <td>4.461034</td>\n",
       "    </tr>\n",
       "    <tr>\n",
       "      <th>11</th>\n",
       "      <td>51200</td>\n",
       "      <td>10.416150</td>\n",
       "      <td>4.458716</td>\n",
       "    </tr>\n",
       "  </tbody>\n",
       "</table>\n",
       "</div>"
      ],
      "text/plain": [
       "    Model Limit      Times  Compression Rate\n",
       "0             0  22.802954          4.453229\n",
       "1            50   8.257687          8.574423\n",
       "2           100   7.756586          7.068736\n",
       "3           200   6.792676          5.231826\n",
       "4           400   6.865954          5.197398\n",
       "5           800   6.827889          4.980859\n",
       "6          1600   6.742874          4.793454\n",
       "7          3200   6.947442          4.608291\n",
       "8          6400   7.121393          4.510030\n",
       "9         12800   7.378564          4.473012\n",
       "10        25600   8.346926          4.461034\n",
       "11        51200  10.416150          4.458716"
      ]
     },
     "execution_count": 9,
     "metadata": {},
     "output_type": "execute_result"
    }
   ],
   "source": [
    "model_limit = [0,50,100,200,400,800,1600,3200,6400,12800,25600,51200] #0 corressponds to full adaptive model\n",
    "times = []\n",
    "compression = []\n",
    "for i in model_limit:\n",
    "    start = time.time()\n",
    "    camzip(method, filename,b = 0.01, num=i)\n",
    "    camunzip(filename + '.cz' + method[0],b = 0.01, num=i)\n",
    "    finish = time.time()\n",
    "    times.append(round(finish-start,6))\n",
    "    Nout = stat(filename + '.cz' + method[0]).st_size\n",
    "    compression.append(8.0*Nout/Nin)\n",
    "    if not cmp(filename,filename+'.cuz'):\n",
    "        print('The files are different')\n",
    "        \n",
    "df = pd.DataFrame()\n",
    "df['Model Limit'] = np.array(model_limit)\n",
    "df['Times'] = np.array(times)\n",
    "df['Compression Rate'] = np.array(compression)\n",
    "df.to_csv(\"model_test_3_0_1-1.csv\")\n",
    "df"
   ]
  },
  {
   "cell_type": "markdown",
   "metadata": {},
   "source": [
    "##### 2.2 Plot showing results of simulations in (2.1)"
   ]
  },
  {
   "cell_type": "code",
   "execution_count": 10,
   "metadata": {
    "scrolled": false
   },
   "outputs": [
    {
     "data": {
      "application/vnd.plotly.v1+json": {
       "data": [
        {
         "marker": {
          "color": "orange",
          "size": 5
         },
         "mode": "markers",
         "name": "Model Initial Bias = 0.1",
         "text": [
          "('Rate: 6.59091282319', 'Model Size: 50')",
          "('Rate: 6.07545438299', 'Model Size: 100')",
          "('Rate: 5.01463009385', 'Model Size: 200')",
          "('Rate: 5.05354063727', 'Model Size: 400')",
          "('Rate: 4.93414284265', 'Model Size: 800')",
          "('Rate: 4.78874028565', 'Model Size: 1600')",
          "('Rate: 4.60890943252', 'Model Size: 3200')",
          "('Rate: 4.51072503248', 'Model Size: 6400')",
          "('Rate: 4.47297369095', 'Model Size: 12800')",
          "('Rate: 4.46060887079', 'Model Size: 25600')",
          "('Rate: 4.45813590676', 'Model Size: 51200')",
          "('Rate: 4.45268765788', 'Model Size: 0')"
         ],
         "type": "scatter",
         "uid": "be21ce2e-f674-11e8-b508-acbc32c93aff",
         "x": [
          50,
          100,
          200,
          400,
          800,
          1600,
          3200,
          6400,
          12800,
          25600,
          51200,
          0
         ],
         "y": [
          6.590912823187902,
          6.075454382990644,
          5.014630093847052,
          5.053540637271238,
          4.934142842652832,
          4.788740285646665,
          4.608909432522375,
          4.510725032481803,
          4.472973690947116,
          4.460608870792459,
          4.4581359067615285,
          4.452687657880882
         ]
        },
        {
         "marker": {
          "color": "blue",
          "size": 5
         },
         "mode": "markers",
         "name": "Model Initial Bias = 0.01",
         "text": [
          "('Rate: 4.45322861876', 'Model Size: 0')",
          "('Rate: 8.57442317631', 'Model Size: 50')",
          "('Rate: 7.06873584204', 'Model Size: 100')",
          "('Rate: 5.23182588788', 'Model Size: 200')",
          "('Rate: 5.19739759176', 'Model Size: 400')",
          "('Rate: 4.9808586788', 'Model Size: 800')",
          "('Rate: 4.79345437333', 'Model Size: 1600')",
          "('Rate: 4.60829119151', 'Model Size: 3200')",
          "('Rate: 4.51002951135', 'Model Size: 6400')",
          "('Rate: 4.47301233101', 'Model Size: 12800')",
          "('Rate: 4.46103391149', 'Model Size: 25600')",
          "('Rate: 4.45871550771', 'Model Size: 51200')"
         ],
         "type": "scatter",
         "uid": "be232698-f674-11e8-b11f-acbc32c93aff",
         "x": [
          0,
          50,
          100,
          200,
          400,
          800,
          1600,
          3200,
          6400,
          12800,
          25600,
          51200
         ],
         "y": [
          4.453228618762648,
          8.574423176309777,
          7.068735842039423,
          5.231825887876197,
          5.197397591758074,
          4.980858678799646,
          4.793454373330627,
          4.608291191514642,
          4.510029511348104,
          4.4730123310101,
          4.461033911485275,
          4.458715507706279
         ]
        }
       ],
       "layout": {
        "shapes": [
         {
          "line": {
           "color": "orange"
          },
          "type": "line",
          "x0": 50,
          "x1": 51200,
          "y0": 4.452687657880882,
          "y1": 4.452687657880882
         },
         {
          "line": {
           "color": "blue",
           "dash": "dashdot"
          },
          "type": "line",
          "x0": 50,
          "x1": 51200,
          "y0": 4.453228618762648,
          "y1": 4.453228618762648
         }
        ],
        "title": "Relationship Between Size of Probability Model and Compression Rate ",
        "xaxis": {
         "title": "Number of characters used to create probability model",
         "titlefont": {
          "color": "#7f7f7f",
          "family": "Courier New, monospace",
          "size": 18
         },
         "type": "log"
        },
        "yaxis": {
         "title": "Compression rate (bits/byte)",
         "titlefont": {
          "color": "#7f7f7f",
          "family": "Courier New, monospace",
          "size": 18
         },
         "type": "log"
        }
       }
      },
      "text/html": [
       "<div id=\"ed3b2a45-d62b-41e9-aa38-3343b26f57f4\" style=\"height: 525px; width: 100%;\" class=\"plotly-graph-div\"></div><script type=\"text/javascript\">require([\"plotly\"], function(Plotly) { window.PLOTLYENV=window.PLOTLYENV || {};window.PLOTLYENV.BASE_URL=\"https://plot.ly\";Plotly.newPlot(\"ed3b2a45-d62b-41e9-aa38-3343b26f57f4\", [{\"marker\": {\"color\": \"orange\", \"size\": 5}, \"mode\": \"markers\", \"name\": \"Model Initial Bias = 0.1\", \"text\": [\"('Rate: 6.59091282319', 'Model Size: 50')\", \"('Rate: 6.07545438299', 'Model Size: 100')\", \"('Rate: 5.01463009385', 'Model Size: 200')\", \"('Rate: 5.05354063727', 'Model Size: 400')\", \"('Rate: 4.93414284265', 'Model Size: 800')\", \"('Rate: 4.78874028565', 'Model Size: 1600')\", \"('Rate: 4.60890943252', 'Model Size: 3200')\", \"('Rate: 4.51072503248', 'Model Size: 6400')\", \"('Rate: 4.47297369095', 'Model Size: 12800')\", \"('Rate: 4.46060887079', 'Model Size: 25600')\", \"('Rate: 4.45813590676', 'Model Size: 51200')\", \"('Rate: 4.45268765788', 'Model Size: 0')\"], \"x\": [50, 100, 200, 400, 800, 1600, 3200, 6400, 12800, 25600, 51200, 0], \"y\": [6.590912823187902, 6.075454382990644, 5.014630093847052, 5.053540637271238, 4.934142842652832, 4.788740285646665, 4.608909432522375, 4.510725032481803, 4.472973690947116, 4.460608870792459, 4.4581359067615285, 4.452687657880882], \"type\": \"scatter\", \"uid\": \"be21ce2e-f674-11e8-b508-acbc32c93aff\"}, {\"marker\": {\"color\": \"blue\", \"size\": 5}, \"mode\": \"markers\", \"name\": \"Model Initial Bias = 0.01\", \"text\": [\"('Rate: 4.45322861876', 'Model Size: 0')\", \"('Rate: 8.57442317631', 'Model Size: 50')\", \"('Rate: 7.06873584204', 'Model Size: 100')\", \"('Rate: 5.23182588788', 'Model Size: 200')\", \"('Rate: 5.19739759176', 'Model Size: 400')\", \"('Rate: 4.9808586788', 'Model Size: 800')\", \"('Rate: 4.79345437333', 'Model Size: 1600')\", \"('Rate: 4.60829119151', 'Model Size: 3200')\", \"('Rate: 4.51002951135', 'Model Size: 6400')\", \"('Rate: 4.47301233101', 'Model Size: 12800')\", \"('Rate: 4.46103391149', 'Model Size: 25600')\", \"('Rate: 4.45871550771', 'Model Size: 51200')\"], \"x\": [0, 50, 100, 200, 400, 800, 1600, 3200, 6400, 12800, 25600, 51200], \"y\": [4.453228618762648, 8.574423176309777, 7.068735842039423, 5.231825887876197, 5.197397591758074, 4.980858678799646, 4.793454373330627, 4.608291191514642, 4.510029511348104, 4.4730123310101, 4.461033911485275, 4.458715507706279], \"type\": \"scatter\", \"uid\": \"be232698-f674-11e8-b11f-acbc32c93aff\"}], {\"shapes\": [{\"line\": {\"color\": \"orange\"}, \"type\": \"line\", \"x0\": 50, \"x1\": 51200, \"y0\": 4.452687657880882, \"y1\": 4.452687657880882}, {\"line\": {\"color\": \"blue\", \"dash\": \"dashdot\"}, \"type\": \"line\", \"x0\": 50, \"x1\": 51200, \"y0\": 4.453228618762648, \"y1\": 4.453228618762648}], \"title\": \"Relationship Between Size of Probability Model and Compression Rate \", \"xaxis\": {\"title\": \"Number of characters used to create probability model\", \"titlefont\": {\"color\": \"#7f7f7f\", \"family\": \"Courier New, monospace\", \"size\": 18}, \"type\": \"log\"}, \"yaxis\": {\"title\": \"Compression rate (bits/byte)\", \"titlefont\": {\"color\": \"#7f7f7f\", \"family\": \"Courier New, monospace\", \"size\": 18}, \"type\": \"log\"}}, {\"showLink\": true, \"linkText\": \"Export to plot.ly\"})});</script>"
      ],
      "text/vnd.plotly.v1+html": [
       "<div id=\"ed3b2a45-d62b-41e9-aa38-3343b26f57f4\" style=\"height: 525px; width: 100%;\" class=\"plotly-graph-div\"></div><script type=\"text/javascript\">require([\"plotly\"], function(Plotly) { window.PLOTLYENV=window.PLOTLYENV || {};window.PLOTLYENV.BASE_URL=\"https://plot.ly\";Plotly.newPlot(\"ed3b2a45-d62b-41e9-aa38-3343b26f57f4\", [{\"marker\": {\"color\": \"orange\", \"size\": 5}, \"mode\": \"markers\", \"name\": \"Model Initial Bias = 0.1\", \"text\": [\"('Rate: 6.59091282319', 'Model Size: 50')\", \"('Rate: 6.07545438299', 'Model Size: 100')\", \"('Rate: 5.01463009385', 'Model Size: 200')\", \"('Rate: 5.05354063727', 'Model Size: 400')\", \"('Rate: 4.93414284265', 'Model Size: 800')\", \"('Rate: 4.78874028565', 'Model Size: 1600')\", \"('Rate: 4.60890943252', 'Model Size: 3200')\", \"('Rate: 4.51072503248', 'Model Size: 6400')\", \"('Rate: 4.47297369095', 'Model Size: 12800')\", \"('Rate: 4.46060887079', 'Model Size: 25600')\", \"('Rate: 4.45813590676', 'Model Size: 51200')\", \"('Rate: 4.45268765788', 'Model Size: 0')\"], \"x\": [50, 100, 200, 400, 800, 1600, 3200, 6400, 12800, 25600, 51200, 0], \"y\": [6.590912823187902, 6.075454382990644, 5.014630093847052, 5.053540637271238, 4.934142842652832, 4.788740285646665, 4.608909432522375, 4.510725032481803, 4.472973690947116, 4.460608870792459, 4.4581359067615285, 4.452687657880882], \"type\": \"scatter\", \"uid\": \"be21ce2e-f674-11e8-b508-acbc32c93aff\"}, {\"marker\": {\"color\": \"blue\", \"size\": 5}, \"mode\": \"markers\", \"name\": \"Model Initial Bias = 0.01\", \"text\": [\"('Rate: 4.45322861876', 'Model Size: 0')\", \"('Rate: 8.57442317631', 'Model Size: 50')\", \"('Rate: 7.06873584204', 'Model Size: 100')\", \"('Rate: 5.23182588788', 'Model Size: 200')\", \"('Rate: 5.19739759176', 'Model Size: 400')\", \"('Rate: 4.9808586788', 'Model Size: 800')\", \"('Rate: 4.79345437333', 'Model Size: 1600')\", \"('Rate: 4.60829119151', 'Model Size: 3200')\", \"('Rate: 4.51002951135', 'Model Size: 6400')\", \"('Rate: 4.47301233101', 'Model Size: 12800')\", \"('Rate: 4.46103391149', 'Model Size: 25600')\", \"('Rate: 4.45871550771', 'Model Size: 51200')\"], \"x\": [0, 50, 100, 200, 400, 800, 1600, 3200, 6400, 12800, 25600, 51200], \"y\": [4.453228618762648, 8.574423176309777, 7.068735842039423, 5.231825887876197, 5.197397591758074, 4.980858678799646, 4.793454373330627, 4.608291191514642, 4.510029511348104, 4.4730123310101, 4.461033911485275, 4.458715507706279], \"type\": \"scatter\", \"uid\": \"be232698-f674-11e8-b11f-acbc32c93aff\"}], {\"shapes\": [{\"line\": {\"color\": \"orange\"}, \"type\": \"line\", \"x0\": 50, \"x1\": 51200, \"y0\": 4.452687657880882, \"y1\": 4.452687657880882}, {\"line\": {\"color\": \"blue\", \"dash\": \"dashdot\"}, \"type\": \"line\", \"x0\": 50, \"x1\": 51200, \"y0\": 4.453228618762648, \"y1\": 4.453228618762648}], \"title\": \"Relationship Between Size of Probability Model and Compression Rate \", \"xaxis\": {\"title\": \"Number of characters used to create probability model\", \"titlefont\": {\"color\": \"#7f7f7f\", \"family\": \"Courier New, monospace\", \"size\": 18}, \"type\": \"log\"}, \"yaxis\": {\"title\": \"Compression rate (bits/byte)\", \"titlefont\": {\"color\": \"#7f7f7f\", \"family\": \"Courier New, monospace\", \"size\": 18}, \"type\": \"log\"}}, {\"showLink\": true, \"linkText\": \"Export to plot.ly\"})});</script>"
      ]
     },
     "metadata": {},
     "output_type": "display_data"
    }
   ],
   "source": [
    "df1 = pd.read_csv(\"model_test_0_1-1.csv\")\n",
    "df2 = pd.read_csv(\"model_test_3_0_1-1.csv\")\n",
    "trace1 = go.Scatter(\n",
    "    x = df1['Model Limit'].values,\n",
    "    y = df1['Compression Rate'].values,\n",
    "    mode = 'markers',\n",
    "    text = [('Rate: '+str(df1['Compression Rate'].values[i]),'Model Size: '+str(df1['Model Limit'].values[i]))\\\n",
    "            for i in range(len(df1['Compression Rate'].values))],\n",
    "    name = 'Model Initial Bias = 0.1',\n",
    "    marker = dict(\n",
    "        size = 5,\n",
    "        color = 'orange',\n",
    "    )\n",
    "    \n",
    ")\n",
    "\n",
    "trace2 = go.Scatter(\n",
    "    x = df2['Model Limit'].values,\n",
    "    y = df2['Compression Rate'].values,\n",
    "    mode = 'markers',\n",
    "    text = [('Rate: '+str(df2['Compression Rate'].values[i]),'Model Size: '+str(df2['Model Limit'].values[i]))\\\n",
    "            for i in range(len(df2['Compression Rate'].values))],\n",
    "    name = 'Model Initial Bias = 0.01',\n",
    "    marker = dict(\n",
    "        size = 5,\n",
    "        color = 'blue',\n",
    "    )\n",
    ")\n",
    "\n",
    "data = [trace1,trace2]\n",
    "\n",
    "layout = go.Layout(\n",
    "    title='Relationship Between Size of Probability Model and Compression Rate ',\n",
    "    xaxis=dict(\n",
    "        type='log',\n",
    "        title='Number of characters used to create probability model',\n",
    "        titlefont=dict(\n",
    "            family='Courier New, monospace',\n",
    "            size=18,\n",
    "            color='#7f7f7f'\n",
    "        )\n",
    "    ),\n",
    "    yaxis=dict(\n",
    "        type='log',\n",
    "        title='Compression rate (bits/byte)',\n",
    "        titlefont=dict(\n",
    "            family='Courier New, monospace',\n",
    "            size=18,\n",
    "            color='#7f7f7f'\n",
    "        )\n",
    "    ),\n",
    "    shapes= [dict(\n",
    "        type='line',\n",
    "        x0=50,\n",
    "        x1=51200,\n",
    "        y0=df1['Compression Rate'].iloc[-1],\n",
    "        y1=df1['Compression Rate'].iloc[-1],\n",
    "        line=dict(\n",
    "            color='orange'\n",
    "        )\n",
    "    ),\n",
    "             dict(\n",
    "        type='line',\n",
    "        x0=50,\n",
    "        x1=51200,\n",
    "        y0=df2['Compression Rate'].iloc[0],\n",
    "        y1=df2['Compression Rate'].iloc[0],\n",
    "        line=dict(\n",
    "            color='blue',\n",
    "            dash='dashdot'\n",
    "        )\n",
    "    )]\n",
    ")\n",
    "fig = go.Figure(data=data, layout=layout)\n",
    "iplot(fig)\n"
   ]
  },
  {
   "cell_type": "markdown",
   "metadata": {},
   "source": [
    "##### 2.3 Simulation exploring the relationship between intial bias value and compression rate.\n",
    "\n",
    "Simulation iterates over 10 'bias' values and the output shows the relationship between bias values, compression rates, and time. Simulation is successful if 'The two files are the same' prints ten times."
   ]
  },
  {
   "cell_type": "code",
   "execution_count": 11,
   "metadata": {},
   "outputs": [
    {
     "name": "stdout",
     "output_type": "stream",
     "text": [
      "The two files are the same\n",
      "The two files are the same\n",
      "The two files are the same\n",
      "The two files are the same\n",
      "The two files are the same\n",
      "The two files are the same\n",
      "The two files are the same\n",
      "The two files are the same\n",
      "The two files are the same\n",
      "The two files are the same\n"
     ]
    },
    {
     "data": {
      "text/html": [
       "<div>\n",
       "<style>\n",
       "    .dataframe thead tr:only-child th {\n",
       "        text-align: right;\n",
       "    }\n",
       "\n",
       "    .dataframe thead th {\n",
       "        text-align: left;\n",
       "    }\n",
       "\n",
       "    .dataframe tbody tr th {\n",
       "        vertical-align: top;\n",
       "    }\n",
       "</style>\n",
       "<table border=\"1\" class=\"dataframe\">\n",
       "  <thead>\n",
       "    <tr style=\"text-align: right;\">\n",
       "      <th></th>\n",
       "      <th>Bias</th>\n",
       "      <th>Times</th>\n",
       "      <th>Compression Rate</th>\n",
       "    </tr>\n",
       "  </thead>\n",
       "  <tbody>\n",
       "    <tr>\n",
       "      <th>0</th>\n",
       "      <td>0.01</td>\n",
       "      <td>22.454095</td>\n",
       "      <td>4.453229</td>\n",
       "    </tr>\n",
       "    <tr>\n",
       "      <th>1</th>\n",
       "      <td>0.03</td>\n",
       "      <td>22.493888</td>\n",
       "      <td>4.452842</td>\n",
       "    </tr>\n",
       "    <tr>\n",
       "      <th>2</th>\n",
       "      <td>0.05</td>\n",
       "      <td>22.220630</td>\n",
       "      <td>4.452726</td>\n",
       "    </tr>\n",
       "    <tr>\n",
       "      <th>3</th>\n",
       "      <td>0.07</td>\n",
       "      <td>22.301350</td>\n",
       "      <td>4.452688</td>\n",
       "    </tr>\n",
       "    <tr>\n",
       "      <th>4</th>\n",
       "      <td>0.09</td>\n",
       "      <td>22.348054</td>\n",
       "      <td>4.452688</td>\n",
       "    </tr>\n",
       "    <tr>\n",
       "      <th>5</th>\n",
       "      <td>0.11</td>\n",
       "      <td>22.233853</td>\n",
       "      <td>4.452688</td>\n",
       "    </tr>\n",
       "    <tr>\n",
       "      <th>6</th>\n",
       "      <td>0.13</td>\n",
       "      <td>22.529835</td>\n",
       "      <td>4.452726</td>\n",
       "    </tr>\n",
       "    <tr>\n",
       "      <th>7</th>\n",
       "      <td>0.15</td>\n",
       "      <td>22.650354</td>\n",
       "      <td>4.452765</td>\n",
       "    </tr>\n",
       "    <tr>\n",
       "      <th>8</th>\n",
       "      <td>0.17</td>\n",
       "      <td>22.688937</td>\n",
       "      <td>4.452804</td>\n",
       "    </tr>\n",
       "    <tr>\n",
       "      <th>9</th>\n",
       "      <td>0.19</td>\n",
       "      <td>22.973099</td>\n",
       "      <td>4.452842</td>\n",
       "    </tr>\n",
       "  </tbody>\n",
       "</table>\n",
       "</div>"
      ],
      "text/plain": [
       "   Bias      Times  Compression Rate\n",
       "0  0.01  22.454095          4.453229\n",
       "1  0.03  22.493888          4.452842\n",
       "2  0.05  22.220630          4.452726\n",
       "3  0.07  22.301350          4.452688\n",
       "4  0.09  22.348054          4.452688\n",
       "5  0.11  22.233853          4.452688\n",
       "6  0.13  22.529835          4.452726\n",
       "7  0.15  22.650354          4.452765\n",
       "8  0.17  22.688937          4.452804\n",
       "9  0.19  22.973099          4.452842"
      ]
     },
     "execution_count": 11,
     "metadata": {},
     "output_type": "execute_result"
    }
   ],
   "source": [
    "bias = [0.01,0.03,0.05,0.07,0.09,0.11,0.13,0.15,0.17,0.19]\n",
    "times = []\n",
    "compression = []\n",
    "for i in bias:\n",
    "    start = time.time()\n",
    "    camzip(method, filename, b=i)\n",
    "    camunzip(filename + '.cz' + method[0], b=i)\n",
    "    finish = time.time()\n",
    "    times.append(round(finish-start,6))\n",
    "    Nout = stat(filename + '.cz' + method[0]).st_size\n",
    "    compression.append(8.0*Nout/Nin)\n",
    "    if cmp(filename,filename+'.cuz'):\n",
    "        print('The two files are the same')\n",
    "    else:\n",
    "        print('The files are different')\n",
    "df = pd.DataFrame()\n",
    "df['Bias'] = np.array(bias)\n",
    "df['Times'] = np.array(times)\n",
    "df['Compression Rate'] = np.array(compression)\n",
    "df.to_csv(\"bias_test_2_0_1-1.csv\")\n",
    "df"
   ]
  },
  {
   "cell_type": "markdown",
   "metadata": {},
   "source": [
    "##### 2.4 Plot showing the results of simulation in (2.3)"
   ]
  },
  {
   "cell_type": "code",
   "execution_count": 12,
   "metadata": {},
   "outputs": [
    {
     "data": {
      "application/vnd.plotly.v1+json": {
       "data": [
        {
         "marker": {
          "color": "orange",
          "size": 5
         },
         "mode": "markers",
         "name": "Adaptive Arithmetic Coding",
         "type": "scatter",
         "uid": "44444b46-f675-11e8-87fa-acbc32c93aff",
         "x": [
          0.01,
          0.03,
          0.05,
          0.07,
          0.09,
          0.11,
          0.13,
          0.15,
          0.17,
          0.19
         ],
         "y": [
          4.453228618762648,
          4.452842218132815,
          4.452726297943865,
          4.452687657880882,
          4.452687657880882,
          4.452687657880882,
          4.452726297943865,
          4.452764938006848,
          4.452803578069832,
          4.452842218132815
         ]
        },
        {
         "marker": {
          "color": "red",
          "size": 5
         },
         "mode": "lines",
         "name": "Non-Adaptive Arithmetic Coding",
         "type": "scatter",
         "uid": "44444d06-f675-11e8-9868-acbc32c93aff",
         "x": [
          0.01,
          0.03,
          0.05,
          0.07,
          0.09,
          0.11,
          0.13,
          0.15,
          0.17,
          0.19
         ],
         "y": [
          4.449905573346085,
          4.449905573346085,
          4.449905573346085,
          4.449905573346085,
          4.449905573346085,
          4.449905573346085,
          4.449905573346085,
          4.449905573346085,
          4.449905573346085,
          4.449905573346085
         ]
        }
       ],
       "layout": {
        "showlegend": true,
        "title": "Relationship Between Initial Bias of Probability Model and Compression Rate ",
        "xaxis": {
         "title": "Initial frequency bias used for model",
         "titlefont": {
          "color": "#7f7f7f",
          "family": "Courier New, monospace",
          "size": 18
         }
        },
        "yaxis": {
         "title": "Compression rate (bits/byte)",
         "titlefont": {
          "color": "#7f7f7f",
          "family": "Courier New, monospace",
          "size": 18
         }
        }
       }
      },
      "text/html": [
       "<div id=\"5fcc4553-e072-4bc9-b9ad-aba803e7d5fe\" style=\"height: 525px; width: 100%;\" class=\"plotly-graph-div\"></div><script type=\"text/javascript\">require([\"plotly\"], function(Plotly) { window.PLOTLYENV=window.PLOTLYENV || {};window.PLOTLYENV.BASE_URL=\"https://plot.ly\";Plotly.newPlot(\"5fcc4553-e072-4bc9-b9ad-aba803e7d5fe\", [{\"marker\": {\"color\": \"orange\", \"size\": 5}, \"mode\": \"markers\", \"name\": \"Adaptive Arithmetic Coding\", \"x\": [0.01, 0.03, 0.05, 0.07, 0.09, 0.11, 0.13, 0.15, 0.17, 0.19], \"y\": [4.453228618762648, 4.452842218132815, 4.452726297943865, 4.452687657880882, 4.452687657880882, 4.452687657880882, 4.452726297943865, 4.452764938006848, 4.452803578069832, 4.452842218132815], \"type\": \"scatter\", \"uid\": \"44444b46-f675-11e8-87fa-acbc32c93aff\"}, {\"marker\": {\"color\": \"red\", \"size\": 5}, \"mode\": \"lines\", \"name\": \"Non-Adaptive Arithmetic Coding\", \"x\": [0.01, 0.03, 0.05, 0.07, 0.09, 0.11, 0.13, 0.15, 0.17, 0.19], \"y\": [4.449905573346085, 4.449905573346085, 4.449905573346085, 4.449905573346085, 4.449905573346085, 4.449905573346085, 4.449905573346085, 4.449905573346085, 4.449905573346085, 4.449905573346085], \"type\": \"scatter\", \"uid\": \"44444d06-f675-11e8-9868-acbc32c93aff\"}], {\"showlegend\": true, \"title\": \"Relationship Between Initial Bias of Probability Model and Compression Rate \", \"xaxis\": {\"title\": \"Initial frequency bias used for model\", \"titlefont\": {\"color\": \"#7f7f7f\", \"family\": \"Courier New, monospace\", \"size\": 18}}, \"yaxis\": {\"title\": \"Compression rate (bits/byte)\", \"titlefont\": {\"color\": \"#7f7f7f\", \"family\": \"Courier New, monospace\", \"size\": 18}}}, {\"showLink\": true, \"linkText\": \"Export to plot.ly\"})});</script>"
      ],
      "text/vnd.plotly.v1+html": [
       "<div id=\"5fcc4553-e072-4bc9-b9ad-aba803e7d5fe\" style=\"height: 525px; width: 100%;\" class=\"plotly-graph-div\"></div><script type=\"text/javascript\">require([\"plotly\"], function(Plotly) { window.PLOTLYENV=window.PLOTLYENV || {};window.PLOTLYENV.BASE_URL=\"https://plot.ly\";Plotly.newPlot(\"5fcc4553-e072-4bc9-b9ad-aba803e7d5fe\", [{\"marker\": {\"color\": \"orange\", \"size\": 5}, \"mode\": \"markers\", \"name\": \"Adaptive Arithmetic Coding\", \"x\": [0.01, 0.03, 0.05, 0.07, 0.09, 0.11, 0.13, 0.15, 0.17, 0.19], \"y\": [4.453228618762648, 4.452842218132815, 4.452726297943865, 4.452687657880882, 4.452687657880882, 4.452687657880882, 4.452726297943865, 4.452764938006848, 4.452803578069832, 4.452842218132815], \"type\": \"scatter\", \"uid\": \"44444b46-f675-11e8-87fa-acbc32c93aff\"}, {\"marker\": {\"color\": \"red\", \"size\": 5}, \"mode\": \"lines\", \"name\": \"Non-Adaptive Arithmetic Coding\", \"x\": [0.01, 0.03, 0.05, 0.07, 0.09, 0.11, 0.13, 0.15, 0.17, 0.19], \"y\": [4.449905573346085, 4.449905573346085, 4.449905573346085, 4.449905573346085, 4.449905573346085, 4.449905573346085, 4.449905573346085, 4.449905573346085, 4.449905573346085, 4.449905573346085], \"type\": \"scatter\", \"uid\": \"44444d06-f675-11e8-9868-acbc32c93aff\"}], {\"showlegend\": true, \"title\": \"Relationship Between Initial Bias of Probability Model and Compression Rate \", \"xaxis\": {\"title\": \"Initial frequency bias used for model\", \"titlefont\": {\"color\": \"#7f7f7f\", \"family\": \"Courier New, monospace\", \"size\": 18}}, \"yaxis\": {\"title\": \"Compression rate (bits/byte)\", \"titlefont\": {\"color\": \"#7f7f7f\", \"family\": \"Courier New, monospace\", \"size\": 18}}}, {\"showLink\": true, \"linkText\": \"Export to plot.ly\"})});</script>"
      ]
     },
     "metadata": {},
     "output_type": "display_data"
    }
   ],
   "source": [
    "df3 = pd.read_csv(\"bias_test_2_0_1-1.csv\")\n",
    "y = [df3['Compression Rate'].iloc[i] for i in range(df3['Compression Rate'].count()) ]\n",
    "trace3 = go.Scatter(\n",
    "    x = df3['Bias'].values,\n",
    "    y = df3['Compression Rate'].values,\n",
    "    mode = 'markers',\n",
    "    name = 'Adaptive Arithmetic Coding',\n",
    "    marker = dict(\n",
    "        size = 5,\n",
    "        color = 'orange',\n",
    "    )\n",
    "    \n",
    ")\n",
    "\n",
    "trace4 = go.Scatter(\n",
    "    x = df3['Bias'].values,\n",
    "    y = [reg]*df3['Compression Rate'].count(),\n",
    "    name = 'Non-Adaptive Arithmetic Coding',\n",
    "    mode = 'lines',\n",
    "    marker = dict(\n",
    "        size = 5,\n",
    "        color = 'red',\n",
    "    )\n",
    "    \n",
    ")\n",
    "\n",
    "trace5 = go.Scatter(\n",
    "    x = df3['Bias'].values,\n",
    "    y = [huf]*df3['Compression Rate'].count(),\n",
    "    name = 'Non-Adaptive Huffman Coding',\n",
    "    mode = 'lines',\n",
    "    marker = dict(\n",
    "        size = 5,\n",
    "        color = 'blue',\n",
    "    )\n",
    "    \n",
    ")\n",
    "\n",
    "trace6 = go.Scatter(\n",
    "    x = df3['Bias'].values,\n",
    "    y = [sha]*df3['Compression Rate'].count(),\n",
    "    name = 'Non-Adaptive Shannon-Fano Coding',\n",
    "    mode = 'lines',\n",
    "    marker = dict(\n",
    "        size = 5,\n",
    "        color = 'green',\n",
    "    )\n",
    "    \n",
    ")\n",
    "\n",
    "data = [trace3,trace4]\n",
    "\n",
    "layout = go.Layout(\n",
    "    title='Relationship Between Initial Bias of Probability Model and Compression Rate ',\n",
    "    xaxis=dict(\n",
    "        title='Initial frequency bias used for model',\n",
    "        titlefont=dict(\n",
    "            family='Courier New, monospace',\n",
    "            size=18,\n",
    "            color='#7f7f7f'\n",
    "        )\n",
    "    ),\n",
    "    yaxis=dict(\n",
    "        title='Compression rate (bits/byte)',\n",
    "        titlefont=dict(\n",
    "            family='Courier New, monospace',\n",
    "            size=18,\n",
    "            color='#7f7f7f'\n",
    "        )\n",
    "    ),\n",
    "    showlegend=True\n",
    ")\n",
    "\n",
    "fig = go.Figure(data=data, layout=layout)\n",
    "iplot(fig)"
   ]
  },
  {
   "cell_type": "markdown",
   "metadata": {},
   "source": [
    "### 3. Contextual Arithmetic Coding\n",
    "\n",
    "This is a test of a non-adaptive contextual arithmetic code with context length 2."
   ]
  },
  {
   "cell_type": "markdown",
   "metadata": {},
   "source": [
    "##### 3.1 Creating contextual frequency table"
   ]
  },
  {
   "cell_type": "code",
   "execution_count": 4,
   "metadata": {
    "collapsed": true
   },
   "outputs": [],
   "source": [
    "f = open('hamlet.txt', 'r')\n",
    "hamlet = f.read()\n",
    "f.close()\n",
    "\n",
    "f2 = [[0 for i in range(128)] for i in range(129)]\n",
    "\n",
    "for i in range(1,len(hamlet)):\n",
    "    if i == 1: \n",
    "        f2[-1][ord(hamlet[i-1])] += 1;\n",
    "    else:\n",
    "        f2[ord(hamlet[i-1])][ord(hamlet[i])] += 1\n",
    "        \n",
    "p2 = np.array(f2,dtype='f')\n",
    "\n",
    "for l in range(len(p2)):\n",
    "    if np.sum(p2[l]) != 0:\n",
    "        p2[l] = p2[l]/sum(p2[l])"
   ]
  },
  {
   "cell_type": "code",
   "execution_count": 8,
   "metadata": {},
   "outputs": [
    {
     "name": "stdout",
     "output_type": "stream",
     "text": [
      "Time taken: 10.611285924911499\n",
      "Length of original file: 207039 bytes\n",
      "Length of compressed file: 86776 bytes\n",
      "Compression rate: 3.3530301054390717 bits/byte\n",
      "The two files are the same\n"
     ]
    }
   ],
   "source": [
    "method = 'fcondarithmetic'\n",
    "\n",
    "start = time.time()\n",
    "camzip(method, filename, pc=p2)\n",
    "camunzip(filename + '.cz' + method[0], pc=p2)\n",
    "finish = time.time()\n",
    "print(f'Time taken: {finish-start}')\n",
    "\n",
    "\n",
    "Nin = stat(filename).st_size\n",
    "print(f'Length of original file: {Nin} bytes')\n",
    "Nout = stat(filename + '.cz' + method[0]).st_size\n",
    "sha = 8.0*Nout/Nin\n",
    "print(f'Length of compressed file: {Nout} bytes')\n",
    "print(f'Compression rate: {8.0*Nout/Nin} bits/byte')\n",
    "if cmp(filename,filename+'.cuz'):\n",
    "    print('The two files are the same')\n",
    "else:\n",
    "    print('The files are different')"
   ]
  },
  {
   "cell_type": "markdown",
   "metadata": {},
   "source": [
    "##### 3.2 Conditional entropy of test file for context length 1\n",
    "\n",
    "$H(X_k|X_{k-1})$"
   ]
  },
  {
   "cell_type": "code",
   "execution_count": 5,
   "metadata": {},
   "outputs": [
    {
     "name": "stdout",
     "output_type": "stream",
     "text": [
      "Conditional Entropy: 3.3529715339454373\n"
     ]
    }
   ],
   "source": [
    "pj = np.array(f2,dtype='f')/len(hamlet) #Joint probability distribution\n",
    "\n",
    "def cH(p2,pj):\n",
    "    h = 0\n",
    "    for i in range(len(pj)):\n",
    "        for j in range(len(pj[i])):\n",
    "            if pj[i][j] != 0:\n",
    "                h += pj[i][j]*log2(1/p2[i][j])\n",
    "    return h\n",
    "print(f'Conditional Entropy: {cH(p2,pj)}')"
   ]
  },
  {
   "cell_type": "markdown",
   "metadata": {},
   "source": [
    "##### 3.3 Size of conditional probability distribution\n",
    "\n",
    "As this model isn't adaptive, any practical transmission solution would require the probability distribution to be sent along with the compressed source file. Thus the effective compression rate is slightly higher than that shown above."
   ]
  },
  {
   "cell_type": "code",
   "execution_count": 6,
   "metadata": {},
   "outputs": [
    {
     "name": "stdout",
     "output_type": "stream",
     "text": [
      "Size of conditional probabilty distribution: 66048 bytes\n"
     ]
    }
   ],
   "source": [
    "print(f'Size of conditional probabilty distribution: {len(bytes(p2))} bytes')"
   ]
  },
  {
   "cell_type": "code",
   "execution_count": 9,
   "metadata": {},
   "outputs": [
    {
     "name": "stdout",
     "output_type": "stream",
     "text": [
      "Effective compression rate: 5.905128985360246 bits/byte\n"
     ]
    }
   ],
   "source": [
    "print(f'Effective compression rate: {8.0*(Nout+len(bytes(p2)))/Nin} bits/byte')"
   ]
  },
  {
   "cell_type": "markdown",
   "metadata": {},
   "source": [
    "##### 3.4 Adaptive Contextual Arithmetic Coding"
   ]
  },
  {
   "cell_type": "markdown",
   "metadata": {},
   "source": [
    "The following simulation uses a context length of 1."
   ]
  },
  {
   "cell_type": "code",
   "execution_count": 3,
   "metadata": {},
   "outputs": [
    {
     "name": "stdout",
     "output_type": "stream",
     "text": [
      "Time taken: 49.27709197998047\n",
      "Length of original file: 207039 bytes\n",
      "Length of compressed file: 88096 bytes\n",
      "Compression rate: 3.4040349885770316 bits/byte\n",
      "The two files are the same\n"
     ]
    }
   ],
   "source": [
    "method = 'gadconarithmetic'\n",
    "\n",
    "start = time.time()\n",
    "camzip(method, filename, b=0.1)\n",
    "camunzip(filename + '.cz' + method[0], b=0.1)\n",
    "finish = time.time()\n",
    "print(f'Time taken: {finish-start}')\n",
    "\n",
    "\n",
    "Nin = stat(filename).st_size\n",
    "print(f'Length of original file: {Nin} bytes')\n",
    "Nout = stat(filename + '.cz' + method[0]).st_size\n",
    "sha = 8.0*Nout/Nin\n",
    "print(f'Length of compressed file: {Nout} bytes')\n",
    "print(f'Compression rate: {8.0*Nout/Nin} bits/byte')\n",
    "if cmp(filename,filename+'.cuz'):\n",
    "    print('The two files are the same')\n",
    "else:\n",
    "    print('The files are different')"
   ]
  },
  {
   "cell_type": "markdown",
   "metadata": {},
   "source": [
    "The following simulation uses a context length of 2."
   ]
  },
  {
   "cell_type": "code",
   "execution_count": 4,
   "metadata": {},
   "outputs": [
    {
     "name": "stdout",
     "output_type": "stream",
     "text": [
      "Time taken: 67.92650389671326\n",
      "Length of original file: 207039 bytes\n",
      "Length of compressed file: 69443 bytes\n",
      "Compression rate: 2.683281893749487 bits/byte\n",
      "The two files are the same\n"
     ]
    }
   ],
   "source": [
    "method = 'jadconarithmetic'\n",
    "\n",
    "start = time.time()\n",
    "camzip(method, filename, b=0.1)\n",
    "camunzip(filename + '.cz' + method[0], b=0.1)\n",
    "finish = time.time()\n",
    "print(f'Time taken: {finish-start}')\n",
    "\n",
    "\n",
    "Nin = stat(filename).st_size\n",
    "print(f'Length of original file: {Nin} bytes')\n",
    "Nout = stat(filename + '.cz' + method[0]).st_size\n",
    "sha = 8.0*Nout/Nin\n",
    "print(f'Length of compressed file: {Nout} bytes')\n",
    "print(f'Compression rate: {8.0*Nout/Nin} bits/byte')\n",
    "if cmp(filename,filename+'.cuz'):\n",
    "    print('The two files are the same')\n",
    "else:\n",
    "    print('The files are different')"
   ]
  },
  {
   "cell_type": "markdown",
   "metadata": {},
   "source": [
    "##### 3.5 Conditional entropy of test file for context length 2\n",
    "\n",
    "$H(X_k|X_{k-1},X_{k-2})$"
   ]
  },
  {
   "cell_type": "code",
   "execution_count": 7,
   "metadata": {},
   "outputs": [
    {
     "name": "stdout",
     "output_type": "stream",
     "text": [
      "Conditional Entropy: 2.357435704004353\n"
     ]
    }
   ],
   "source": [
    "f = open('hamlet.txt', 'r')\n",
    "hamlet = f.read()\n",
    "f.close()\n",
    "\n",
    "f2 = [[[0 for i in range(128)] for k in range(129)] for j in range(129)]\n",
    "\n",
    "for i in range(len(hamlet)):\n",
    "    if i == 0:\n",
    "        f2[128][128][ord(hamlet[i])] +=1\n",
    "    elif i == 1:\n",
    "        f2[128][ord(hamlet[i-1])][ord(hamlet[i])] +=1\n",
    "    else:\n",
    "        f2[ord(hamlet[i-2])][ord(hamlet[i-1])][ord(hamlet[i])] += 1\n",
    "        \n",
    "p2 = np.array(f2,dtype='f')\n",
    "\n",
    "for l in range(len(p2)):\n",
    "    for m in range(len(p2[l])):\n",
    "        if np.sum(p2[l][m]) != 0:\n",
    "            p2[l][m] = p2[l][m]/sum(p2[l][m])\n",
    "        \n",
    "pj = np.array(f2,dtype='f')/len(hamlet) #Joint probability distribution\n",
    "\n",
    "def cH(p2,pj):\n",
    "    h = 0\n",
    "    for i in range(len(pj)):\n",
    "        for j in range(len(pj[i])):\n",
    "            for k in range(len(pj[i][j])):\n",
    "                if pj[i][j][k] != 0:\n",
    "                    h += pj[i][j][k]*log2(1/p2[i][j][k])\n",
    "    return h\n",
    "print(f'Conditional Entropy: {cH(p2,pj)}')"
   ]
  },
  {
   "cell_type": "markdown",
   "metadata": {},
   "source": [
    "##### 3.6 Effect of larger file size on adaptive coding"
   ]
  },
  {
   "cell_type": "markdown",
   "metadata": {},
   "source": [
    "The following simulation uses a context length of 2, for a test file which is the concatenation of two copies of the original test file."
   ]
  },
  {
   "cell_type": "code",
   "execution_count": 8,
   "metadata": {},
   "outputs": [
    {
     "name": "stdout",
     "output_type": "stream",
     "text": [
      "Time taken: 131.99996089935303\n",
      "Length of original file: 414079 bytes\n",
      "Length of compressed file: 132167 bytes\n",
      "Compression rate: 2.553464435530418 bits/byte\n",
      "The two files are the same\n"
     ]
    }
   ],
   "source": [
    "method = 'jadconarithmetic'\n",
    "filename = 'hamlet2.txt'\n",
    "start = time.time()\n",
    "camzip(method, filename, b=0.1)\n",
    "camunzip(filename + '.cz' + method[0], b=0.1)\n",
    "finish = time.time()\n",
    "print(f'Time taken: {finish-start}')\n",
    "\n",
    "\n",
    "Nin = stat(filename).st_size\n",
    "print(f'Length of original file: {Nin} bytes')\n",
    "Nout = stat(filename + '.cz' + method[0]).st_size\n",
    "sha = 8.0*Nout/Nin\n",
    "print(f'Length of compressed file: {Nout} bytes')\n",
    "print(f'Compression rate: {8.0*Nout/Nin} bits/byte')\n",
    "if cmp(filename,filename+'.cuz'):\n",
    "    print('The two files are the same')\n",
    "else:\n",
    "    print('The files are different')"
   ]
  },
  {
   "cell_type": "code",
   "execution_count": null,
   "metadata": {
    "collapsed": true
   },
   "outputs": [],
   "source": []
  }
 ],
 "metadata": {
  "kernelspec": {
   "display_name": "Python 3",
   "language": "python",
   "name": "python3"
  },
  "language_info": {
   "codemirror_mode": {
    "name": "ipython",
    "version": 3
   },
   "file_extension": ".py",
   "mimetype": "text/x-python",
   "name": "python",
   "nbconvert_exporter": "python",
   "pygments_lexer": "ipython3",
   "version": "3.6.1"
  }
 },
 "nbformat": 4,
 "nbformat_minor": 2
}
