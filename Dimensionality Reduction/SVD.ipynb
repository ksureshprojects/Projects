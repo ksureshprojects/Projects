{
 "cells": [
  {
   "cell_type": "markdown",
   "metadata": {},
   "source": [
    "## SVD\n",
    "\n",
    "> Source: <br/>\n",
    "> https://towardsdatascience.com/singular-value-decomposition-example-in-python-dab2507d85a0 <br/>\n",
    "> Statistical Learning with Sparsity, Trevor Hastie et al.\n",
    "\n",
    "- Principal component vectors are in order of directions which yield highest sample variance. Principal component vectors are orthogonal.\n",
    "- Methods either find directions of maximum variance or minimising reconstruction error associated with particular generative model."
   ]
  },
  {
   "cell_type": "code",
   "execution_count": 29,
   "metadata": {},
   "outputs": [],
   "source": [
    "import numpy as np\n",
    "from sklearn.datasets import load_digits\n",
    "from matplotlib import pyplot as plt\n",
    "from sklearn.decomposition import TruncatedSVD\n",
    "from sklearn.decomposition import SparsePCA\n",
    "from sklearn.model_selection import train_test_split\n",
    "float_formatter = lambda x: \"%.2f\" % x\n",
    "np.set_printoptions(formatter={'float_kind':float_formatter})\n",
    "from sklearn.ensemble import RandomForestClassifier"
   ]
  },
  {
   "cell_type": "code",
   "execution_count": 30,
   "metadata": {},
   "outputs": [
    {
     "name": "stdout",
     "output_type": "stream",
     "text": [
      "X: (1797, 64)\n",
      "y: (1797,)\n"
     ]
    }
   ],
   "source": [
    "# 1797 8x8 pixel images, images presented as flattened 64-length vectors.\n",
    "X, y = load_digits(return_X_y=True)\n",
    "print('X: {}'.format(X.shape))\n",
    "print('y: {}'.format(y.shape))"
   ]
  },
  {
   "cell_type": "code",
   "execution_count": 31,
   "metadata": {},
   "outputs": [],
   "source": [
    "# Split into test and train set\n",
    "X_tr, X_te, y_tr, y_te = train_test_split(X,y, test_size=0.25, random_state=42)"
   ]
  },
  {
   "cell_type": "code",
   "execution_count": 32,
   "metadata": {},
   "outputs": [
    {
     "data": {
      "text/plain": [
       "<matplotlib.image.AxesImage at 0x1a1d241a90>"
      ]
     },
     "execution_count": 32,
     "metadata": {},
     "output_type": "execute_result"
    },
    {
     "data": {
      "image/png": "[encoded data removed]",
      "text/plain": [
       "<Figure size 288x288 with 1 Axes>"
      ]
     },
     "metadata": {
      "needs_background": "light"
     },
     "output_type": "display_data"
    }
   ],
   "source": [
    "# Example of image\n",
    "image = X[0]\n",
    "image = image.reshape((8, 8))\n",
    "plt.matshow(image, cmap = 'gray')"
   ]
  },
  {
   "cell_type": "markdown",
   "metadata": {},
   "source": [
    "> numpy.linalg.svd is a wrapper around xGESDD in LAPACK. Singular value decompositions proceed in two stages. First, the matrix to be decomposed is reduced to bidiagonal form. The algorithm used to reduce to bidiagonal form in LAPACK is probably the Lawson-Hanson-Chan algorithm, and it does use QR factorization at one point. Lecture 31 in Numerical Linear Algebra by Trefethen and Bau gives an overview of this process. Then, xGESDD uses a divide-and-conquer algorithm to calculate the singular values and left and right singular vectors from the bidiagonal matrix. To get background on this step, you'll need to consult Matrix Computations by Golub and Van Loan, or Applied Numerical Linear Algebra by Jim Demmel."
   ]
  },
  {
   "cell_type": "code",
   "execution_count": 33,
   "metadata": {
    "scrolled": true
   },
   "outputs": [
    {
     "name": "stdout",
     "output_type": "stream",
     "text": [
      "Low Rank Image Shape: (8, 8)\n"
     ]
    },
    {
     "data": {
      "text/plain": [
       "<matplotlib.image.AxesImage at 0x1a19b98198>"
      ]
     },
     "execution_count": 33,
     "metadata": {},
     "output_type": "execute_result"
    },
    {
     "data": {
      "image/png": "[encoded data removed]",
      "text/plain": [
       "<Figure size 288x288 with 1 Axes>"
      ]
     },
     "metadata": {
      "needs_background": "light"
     },
     "output_type": "display_data"
    }
   ],
   "source": [
    "# Performing SVD directly on image\n",
    "# image: m x n, U: m x m, s: min(n, m) vector, V: n x n\n",
    "U, s, Vh = np.linalg.svd(image)\n",
    "\n",
    "# Reduced rank Sigma (S: m x n)\n",
    "S = np.zeros((image.shape[0], image.shape[1]))\n",
    "S[:s.shape[0], :s.shape[0]] = np.diag(s)\n",
    "n_component = 2\n",
    "\n",
    "# S: m x n_component\n",
    "S = S[:, :n_component]\n",
    "\n",
    "# First n_component rows of VT. Rows of VT are principal component directions.\n",
    "Vh = Vh[:n_component, :]\n",
    "\n",
    "# Reconstruct low rank approximation of matrix\n",
    "A = U.dot(S.dot(Vh))\n",
    "print('Low Rank Image Shape: {}'.format(A.shape))\n",
    "plt.matshow(A, cmap = 'gray')"
   ]
  },
  {
   "cell_type": "markdown",
   "metadata": {},
   "source": [
    "Note in the operations above, the entire left principal component vector matrix needs to be retained to reconstruct the low rank image. Its size would be similar to the original image matrix if m is similar to n."
   ]
  },
  {
   "cell_type": "code",
   "execution_count": 34,
   "metadata": {},
   "outputs": [],
   "source": [
    "def reduce(x_, arr):\n",
    "    # Performing SVD directly on image using Numpy SVD function\n",
    "    x = x_.reshape((8, 8))\n",
    "    # image: m x n, U: m x m, s: min(n, m) vector, V: n x n\n",
    "    U, s, Vh = np.linalg.svd(x)\n",
    "\n",
    "    # Reduced rank Sigma (S: m x n)\n",
    "    S = np.zeros((image.shape[0], image.shape[1]))\n",
    "    S[:s.shape[0], :s.shape[0]] = np.diag(s)\n",
    "    n_component = 2\n",
    "\n",
    "    # S: m x n_component\n",
    "    S = S[:, :n_component]\n",
    "\n",
    "    # First n_component rows of VT. Rows of VT are principal component directions.\n",
    "    Vh = Vh[:n_component, :]\n",
    "\n",
    "    # Reconstruct low rank approximation of matrix\n",
    "    P = U.dot(S)\n",
    "    \n",
    "    if len(arr) == 0:\n",
    "        arr = np.array([P.flatten()])\n",
    "    else:\n",
    "        arr = np.vstack((arr, P.flatten()))\n",
    "    return arr\n",
    "\n",
    "def reduce2(x_, arr):\n",
    "    # Using SciKit learns TruncatedSVD function which acts directly on image x instead of covarience matrix of x.\n",
    "    svd = TruncatedSVD(n_components=2)\n",
    "    x = x_.reshape((8, 8))\n",
    "    P = svd.fit_transform(x)\n",
    "    \n",
    "    if len(arr) == 0:\n",
    "        arr = np.array([P.flatten()])\n",
    "    else:\n",
    "        arr = np.vstack((arr, P.flatten()))\n",
    "    return arr\n",
    "\n",
    "def reduce3(X_, n_component=None, V=None):\n",
    "    # If loading matrix V supplied, only returns principal components for input set. \n",
    "    # If V not supplied, V matrix first calculated by performing SVD on entire input set.\n",
    "    if V is None:\n",
    "        # image: m x n, U: m x m, s: min(n, m) vector, V: n x n\n",
    "        U, s, Vh = np.linalg.svd(X_)\n",
    "\n",
    "        # First n_component rows of VT. Rows of VT are principal component directions.\n",
    "        Vh = Vh[:n_component, :]\n",
    "\n",
    "        # Reduced Data\n",
    "        return X_.dot(Vh.T), Vh.T\n",
    "    else:\n",
    "        return X_.dot(V)\n",
    "    \n",
    "    "
   ]
  },
  {
   "cell_type": "code",
   "execution_count": 35,
   "metadata": {},
   "outputs": [],
   "source": [
    "def reduceSparse(X_, n_component=None, V=None):\n",
    "    if V is None:\n",
    "        transformer = SparsePCA(n_components=n_component,\n",
    "        normalize_components=True,\n",
    "        random_state=42)\n",
    "        transformer.fit(X_)\n",
    "        return transformer.transform(X_), transformer.components_\n",
    "    else:\n",
    "        return X_.dot(V)\n",
    "    "
   ]
  },
  {
   "cell_type": "code",
   "execution_count": 36,
   "metadata": {},
   "outputs": [
    {
     "name": "stdout",
     "output_type": "stream",
     "text": [
      "Shape of V: (16, 64)\n",
      "Number of non-zero loading values for component 1: 35\n",
      "Number of non-zero loading values for component 2: 36\n",
      "Number of non-zero loading values for component 3: 43\n",
      "Number of non-zero loading values for component 4: 35\n",
      "Number of non-zero loading values for component 5: 38\n",
      "Number of non-zero loading values for component 6: 37\n",
      "Number of non-zero loading values for component 7: 34\n",
      "Number of non-zero loading values for component 8: 34\n",
      "Number of non-zero loading values for component 9: 28\n",
      "Number of non-zero loading values for component 10: 38\n",
      "Number of non-zero loading values for component 11: 36\n",
      "Number of non-zero loading values for component 12: 34\n",
      "Number of non-zero loading values for component 13: 38\n",
      "Number of non-zero loading values for component 14: 36\n",
      "Number of non-zero loading values for component 15: 38\n",
      "Number of non-zero loading values for component 16: 32\n"
     ]
    }
   ],
   "source": [
    "X_sparse_tr, V = reduceSparse(X_tr, n_component=16)\n",
    "print('Shape of V: {}'.format(V.shape))\n",
    "out = [print('Number of non-zero loading values for component {}: {}'.format(n + 1, sum(i != 0))) for n,i in enumerate(V)]"
   ]
  },
  {
   "cell_type": "code",
   "execution_count": 39,
   "metadata": {},
   "outputs": [
    {
     "name": "stdout",
     "output_type": "stream",
     "text": [
      "Visual representation of loading vectors:\n"
     ]
    },
    {
     "data": {
      "image/png": "[encoded data removed]",
      "text/plain": [
       "<Figure size 288x288 with 1 Axes>"
      ]
     },
     "metadata": {
      "needs_background": "light"
     },
     "output_type": "display_data"
    },
    {
     "data": {
      "image/png": "[encoded data removed]",
      "text/plain": [
       "<Figure size 288x288 with 1 Axes>"
      ]
     },
     "metadata": {
      "needs_background": "light"
     },
     "output_type": "display_data"
    },
    {
     "data": {
      "image/png": "[encoded data removed]",
      "text/plain": [
       "<Figure size 288x288 with 1 Axes>"
      ]
     },
     "metadata": {
      "needs_background": "light"
     },
     "output_type": "display_data"
    },
    {
     "data": {
      "image/png": "[encoded data removed]",
      "text/plain": [
       "<Figure size 288x288 with 1 Axes>"
      ]
     },
     "metadata": {
      "needs_background": "light"
     },
     "output_type": "display_data"
    },
    {
     "data": {
      "image/png": "[encoded data removed]",
      "text/plain": [
       "<Figure size 288x288 with 1 Axes>"
      ]
     },
     "metadata": {
      "needs_background": "light"
     },
     "output_type": "display_data"
    },
    {
     "data": {
      "image/png": "[encoded data removed]",
      "text/plain": [
       "<Figure size 288x288 with 1 Axes>"
      ]
     },
     "metadata": {
      "needs_background": "light"
     },
     "output_type": "display_data"
    },
    {
     "data": {
      "image/png": "[encoded data removed]",
      "text/plain": [
       "<Figure size 288x288 with 1 Axes>"
      ]
     },
     "metadata": {
      "needs_background": "light"
     },
     "output_type": "display_data"
    },
    {
     "data": {
      "image/png": "[encoded data removed]",
      "text/plain": [
       "<Figure size 288x288 with 1 Axes>"
      ]
     },
     "metadata": {
      "needs_background": "light"
     },
     "output_type": "display_data"
    },
    {
     "data": {
      "image/png": "[encoded data removed]",
      "text/plain": [
       "<Figure size 288x288 with 1 Axes>"
      ]
     },
     "metadata": {
      "needs_background": "light"
     },
     "output_type": "display_data"
    },
    {
     "data": {
      "image/png": "[encoded data removed]",
      "text/plain": [
       "<Figure size 288x288 with 1 Axes>"
      ]
     },
     "metadata": {
      "needs_background": "light"
     },
     "output_type": "display_data"
    },
    {
     "data": {
      "image/png": "[encoded data removed]",
      "text/plain": [
       "<Figure size 288x288 with 1 Axes>"
      ]
     },
     "metadata": {
      "needs_background": "light"
     },
     "output_type": "display_data"
    },
    {
     "data": {
      "image/png": "[encoded data removed]",
      "text/plain": [
       "<Figure size 288x288 with 1 Axes>"
      ]
     },
     "metadata": {
      "needs_background": "light"
     },
     "output_type": "display_data"
    },
    {
     "data": {
      "image/png": "[encoded data removed]",
      "text/plain": [
       "<Figure size 288x288 with 1 Axes>"
      ]
     },
     "metadata": {
      "needs_background": "light"
     },
     "output_type": "display_data"
    },
    {
     "data": {
      "image/png": "[encoded data removed]",
      "text/plain": [
       "<Figure size 288x288 with 1 Axes>"
      ]
     },
     "metadata": {
      "needs_background": "light"
     },
     "output_type": "display_data"
    },
    {
     "data": {
      "image/png": "[encoded data removed]",
      "text/plain": [
       "<Figure size 288x288 with 1 Axes>"
      ]
     },
     "metadata": {
      "needs_background": "light"
     },
     "output_type": "display_data"
    },
    {
     "data": {
      "image/png": "[encoded data removed]",
      "text/plain": [
       "<Figure size 288x288 with 1 Axes>"
      ]
     },
     "metadata": {
      "needs_background": "light"
     },
     "output_type": "display_data"
    }
   ],
   "source": [
    "print('Visual representation of loading vectors:')\n",
    "mynorm = plt.Normalize(vmin=-1, vmax=1)\n",
    "for vec in V:\n",
    "    plt.matshow(vec.reshape((8,8)) * 2, cmap = 'gray', norm=mynorm)"
   ]
  },
  {
   "cell_type": "code",
   "execution_count": 18,
   "metadata": {},
   "outputs": [
    {
     "name": "stdout",
     "output_type": "stream",
     "text": [
      "X_sparse_tr Shape: (1347, 16)\n",
      "X_sparse_te Shape: (450, 16)\n"
     ]
    }
   ],
   "source": [
    "norm_X_te = X_te - np.mean(X_tr, axis=0)\n",
    "X_sparse_te = reduceSparse(norm_X_te, V=V.T)\n",
    "print('X_sparse_tr Shape: {}'.format(X_sparse_tr.shape))\n",
    "print('X_sparse_te Shape: {}'.format(X_sparse_te.shape))"
   ]
  },
  {
   "cell_type": "code",
   "execution_count": 19,
   "metadata": {},
   "outputs": [
    {
     "name": "stdout",
     "output_type": "stream",
     "text": [
      "X_low_tr Shape: (1347, 16)\n",
      "X_low_te Shape: (450, 16)\n"
     ]
    }
   ],
   "source": [
    "X_low_tr = np.array([])\n",
    "X_low_te = np.array([])\n",
    "for x_ in X_tr:\n",
    "    X_low_tr = reduce(x_, X_low_tr)\n",
    "for x_ in X_te:\n",
    "    X_low_te = reduce(x_, X_low_te)\n",
    "\n",
    "print('X_low_tr Shape: {}'.format(X_low_tr.shape))\n",
    "print('X_low_te Shape: {}'.format(X_low_te.shape))"
   ]
  },
  {
   "cell_type": "code",
   "execution_count": 20,
   "metadata": {},
   "outputs": [
    {
     "name": "stdout",
     "output_type": "stream",
     "text": [
      "X_low2_tr Shape: (1347, 16)\n",
      "X_low2_te Shape: (450, 16)\n"
     ]
    }
   ],
   "source": [
    "X_low2_tr = np.array([])\n",
    "X_low2_te = np.array([])\n",
    "for x_ in X_tr:\n",
    "    X_low2_tr = reduce2(x_, X_low2_tr)\n",
    "for x_ in X_te:\n",
    "    X_low2_te = reduce2(x_, X_low2_te)\n",
    "\n",
    "print('X_low2_tr Shape: {}'.format(X_low2_tr.shape))\n",
    "print('X_low2_te Shape: {}'.format(X_low2_te.shape))"
   ]
  },
  {
   "cell_type": "code",
   "execution_count": 21,
   "metadata": {},
   "outputs": [
    {
     "name": "stdout",
     "output_type": "stream",
     "text": [
      "X_reduced_tr Shape: (1347, 16)\n",
      "X_reduced_te Shape: (450, 16)\n"
     ]
    }
   ],
   "source": [
    "X_reduced_tr, V = reduce3(X_tr, 16)\n",
    "X_reduced_te = reduce3(X_te, V=V)\n",
    "print('X_reduced_tr Shape: {}'.format(X_reduced_tr.shape))\n",
    "print('X_reduced_te Shape: {}'.format(X_reduced_te.shape))"
   ]
  },
  {
   "cell_type": "code",
   "execution_count": 22,
   "metadata": {},
   "outputs": [],
   "source": [
    "def rf_model(model, X_tr_, X_te_, y_tr_, y_te_):\n",
    "    rf = RandomForestClassifier(n_estimators=500, random_state=42)\n",
    "    rf.fit(X_tr_, y_tr_)\n",
    "    predictions = rf.predict(X_te_)\n",
    "    accuracy = round((sum(predictions == y_te_)/y_te_.shape[0]) * 100, 2)\n",
    "    print(model + ' Accuracy: {}%'.format(accuracy))"
   ]
  },
  {
   "cell_type": "code",
   "execution_count": 23,
   "metadata": {
    "scrolled": true
   },
   "outputs": [
    {
     "name": "stdout",
     "output_type": "stream",
     "text": [
      "Original Data Accuracy: 97.56%\n"
     ]
    }
   ],
   "source": [
    "rf_model('Original Data', X_tr, X_te, y_tr, y_te)"
   ]
  },
  {
   "cell_type": "code",
   "execution_count": 24,
   "metadata": {
    "scrolled": true
   },
   "outputs": [
    {
     "name": "stdout",
     "output_type": "stream",
     "text": [
      "Numpy SVD on individual images, Accuracy: 91.11%\n"
     ]
    }
   ],
   "source": [
    "rf_model('Numpy SVD on individual images,', X_low_tr, X_low_te, y_tr, y_te)"
   ]
  },
  {
   "cell_type": "code",
   "execution_count": 25,
   "metadata": {},
   "outputs": [
    {
     "name": "stdout",
     "output_type": "stream",
     "text": [
      "Truncated SVD on individual images, Accuracy: 92.67%\n"
     ]
    }
   ],
   "source": [
    "rf_model('Truncated SVD on individual images,', X_low2_tr, X_low2_te, y_tr, y_te)"
   ]
  },
  {
   "cell_type": "code",
   "execution_count": 26,
   "metadata": {},
   "outputs": [
    {
     "name": "stdout",
     "output_type": "stream",
     "text": [
      "SVD on training set with principal directions preserved from training, Accuracy: 97.11%\n"
     ]
    }
   ],
   "source": [
    "rf_model('SVD on training set with principal directions preserved from training,', X_reduced_tr, X_reduced_te, y_tr, y_te)"
   ]
  },
  {
   "cell_type": "code",
   "execution_count": 27,
   "metadata": {},
   "outputs": [
    {
     "name": "stdout",
     "output_type": "stream",
     "text": [
      "Sparse PCA with loading vectors from training used to reduce test set Accuracy: 95.56%\n"
     ]
    }
   ],
   "source": [
    "rf_model('Sparse PCA with loading vectors from training used to reduce test set', X_sparse_tr, X_sparse_te, y_tr, y_te)"
   ]
  },
  {
   "cell_type": "markdown",
   "metadata": {},
   "source": [
    "This analysis reveals that SVD can be used as a means to reduce the number of features required to create an effective classifier for handwritten digits. Three different methods of dimensionality reduction were compared in the analysis:\n",
    "\n",
    "- Using SVD to reduce dimensions of training set and then using principal direction vectors derrived from training set to reduce test set.\n",
    "- Using SVD to independently reduce dimensions of each image feature vector, by preserving only two features per pixel row in image.\n",
    "- Using Sparse PCA to reduce dimensions of training set, by identifying sparse loading vectors for each principal component, and then using loading vectors derrived from training set to reduce test set.\n",
    "\n",
    "All three results yielded high levels of accuracy, with the method where SVD was applied on the whole training set yielding results that were almost identical to the accuracy of the classifier trained on the orginal data. Given $m > n$ for a $m \\times n$ matrix, the worst case algorithmic complexity of applying SVD is $O(mn^2)$. In the method above where SVD is applied independently to each image feature vector, this complexity reduces to $O(mn^{1.5})$. For large values of $n$ this can translate into significant time savings when training a model. Furthermore, this method is also advantageous for online learning workflows as new data can be reduced independently before being included in training sets. \n",
    "\n",
    "The results of the model trained using data reduced using Sparse PCA analysis are better than the method of applying regular PCA (SVD) to each individual image. The benefit of Sparse PCA is that the loading vectors used to reduce data into 16 components do not require every feature described in the original data set. The selection of non-zero features within a particular vector can increase the interpretability of classification results with reduced data. Looking at the visual representations of the loading vectors above, it can be seen that the choice of non-zero vectors are somewhat related to the structural features of handwritten numbers.  "
   ]
  }
 ],
 "metadata": {
  "kernelspec": {
   "display_name": "Python 3",
   "language": "python",
   "name": "python3"
  },
  "language_info": {
   "codemirror_mode": {
    "name": "ipython",
    "version": 3
   },
   "file_extension": ".py",
   "mimetype": "text/x-python",
   "name": "python",
   "nbconvert_exporter": "python",
   "pygments_lexer": "ipython3",
   "version": "3.6.8"
  }
 },
 "nbformat": 4,
 "nbformat_minor": 2
}
