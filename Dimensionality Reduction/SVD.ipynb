{
 "cells": [
  {
   "cell_type": "markdown",
   "metadata": {},
   "source": [
    "## SVD\n",
    "\n",
    "> Source: <br/>\n",
    "> https://towardsdatascience.com/singular-value-decomposition-example-in-python-dab2507d85a0 <br/>\n",
    "> Statistical Learning with Sparsity, Trevor Hastie et al.\n",
    "\n",
    "- Principal component vectors are in order of directions which yield highest sample variance. Principal component vectors are orthogonal.\n",
    "- Methods either find directions of maximum variance or minimising reconstruction error associated with particular generative model."
   ]
  },
  {
   "cell_type": "code",
   "execution_count": 1,
   "metadata": {},
   "outputs": [],
   "source": [
    "import numpy as np\n",
    "from sklearn.datasets import load_digits\n",
    "from matplotlib import pyplot as plt\n",
    "from sklearn.decomposition import TruncatedSVD\n",
    "from sklearn.model_selection import train_test_split\n",
    "float_formatter = lambda x: \"%.2f\" % x\n",
    "np.set_printoptions(formatter={'float_kind':float_formatter})\n",
    "from sklearn.ensemble import RandomForestClassifier"
   ]
  },
  {
   "cell_type": "code",
   "execution_count": 2,
   "metadata": {},
   "outputs": [
    {
     "name": "stdout",
     "output_type": "stream",
     "text": [
      "X: (1797, 64)\n",
      "y: (1797,)\n"
     ]
    }
   ],
   "source": [
    "# 1797 8x8 pixel images, images presented as flattened 64-length vectors.\n",
    "X, y = load_digits(return_X_y=True)\n",
    "print('X: {}'.format(X.shape))\n",
    "print('y: {}'.format(y.shape))"
   ]
  },
  {
   "cell_type": "code",
   "execution_count": 3,
   "metadata": {},
   "outputs": [],
   "source": [
    "# Split into test and train set\n",
    "X_tr, X_te, y_tr, y_te = train_test_split(X,y, test_size=0.25, random_state=42)"
   ]
  },
  {
   "cell_type": "code",
   "execution_count": 4,
   "metadata": {},
   "outputs": [
    {
     "data": {
      "text/plain": [
       "<matplotlib.image.AxesImage at 0x1a24382e10>"
      ]
     },
     "execution_count": 4,
     "metadata": {},
     "output_type": "execute_result"
    },
    {
     "data": {
      "image/png": "[encoded data removed]",
      "text/plain": [
       "<Figure size 288x288 with 1 Axes>"
      ]
     },
     "metadata": {
      "needs_background": "light"
     },
     "output_type": "display_data"
    }
   ],
   "source": [
    "# Example of image\n",
    "image = X[0]\n",
    "image = image.reshape((8, 8))\n",
    "plt.matshow(image, cmap = 'gray')"
   ]
  },
  {
   "cell_type": "markdown",
   "metadata": {},
   "source": [
    "> numpy.linalg.svd is a wrapper around xGESDD in LAPACK. Singular value decompositions proceed in two stages. First, the matrix to be decomposed is reduced to bidiagonal form. The algorithm used to reduce to bidiagonal form in LAPACK is probably the Lawson-Hanson-Chan algorithm, and it does use QR factorization at one point. Lecture 31 in Numerical Linear Algebra by Trefethen and Bau gives an overview of this process. Then, xGESDD uses a divide-and-conquer algorithm to calculate the singular values and left and right singular vectors from the bidiagonal matrix. To get background on this step, you'll need to consult Matrix Computations by Golub and Van Loan, or Applied Numerical Linear Algebra by Jim Demmel."
   ]
  },
  {
   "cell_type": "code",
   "execution_count": 5,
   "metadata": {
    "scrolled": true
   },
   "outputs": [
    {
     "name": "stdout",
     "output_type": "stream",
     "text": [
      "Low Rank Image Shape: (8, 8)\n"
     ]
    },
    {
     "data": {
      "text/plain": [
       "<matplotlib.image.AxesImage at 0x1a243c1278>"
      ]
     },
     "execution_count": 5,
     "metadata": {},
     "output_type": "execute_result"
    },
    {
     "data": {
      "image/png": "[encoded data removed]",
      "text/plain": [
       "<Figure size 288x288 with 1 Axes>"
      ]
     },
     "metadata": {
      "needs_background": "light"
     },
     "output_type": "display_data"
    }
   ],
   "source": [
    "# Performing SVD directly on image\n",
    "# image: m x n, U: m x m, s: min(n, m) vector, V: n x n\n",
    "U, s, Vh = np.linalg.svd(image)\n",
    "\n",
    "# Reduced rank Sigma (S: m x n)\n",
    "S = np.zeros((image.shape[0], image.shape[1]))\n",
    "S[:s.shape[0], :s.shape[0]] = np.diag(s)\n",
    "n_component = 2\n",
    "\n",
    "# S: m x n_component\n",
    "S = S[:, :n_component]\n",
    "\n",
    "# First n_component rows of VT. Rows of VT are principal component directions.\n",
    "Vh = Vh[:n_component, :]\n",
    "\n",
    "# Reconstruct low rank approximation of matrix\n",
    "A = U.dot(S.dot(Vh))\n",
    "print('Low Rank Image Shape: {}'.format(A.shape))\n",
    "plt.matshow(A, cmap = 'gray')"
   ]
  },
  {
   "cell_type": "markdown",
   "metadata": {},
   "source": [
    "Note in the operations above, the entire left principal component vector matrix needs to be retained to reconstruct the low rank image. Its size would be similar to the original image matrix if m is similar to n."
   ]
  },
  {
   "cell_type": "code",
   "execution_count": 6,
   "metadata": {},
   "outputs": [],
   "source": [
    "def reduce(x_, arr):\n",
    "    # Performing SVD directly on image\n",
    "    x = x_.reshape((8, 8))\n",
    "    # image: m x n, U: m x m, s: min(n, m) vector, V: n x n\n",
    "    U, s, Vh = np.linalg.svd(x)\n",
    "\n",
    "    # Reduced rank Sigma (S: m x n)\n",
    "    S = np.zeros((image.shape[0], image.shape[1]))\n",
    "    S[:s.shape[0], :s.shape[0]] = np.diag(s)\n",
    "    n_component = 2\n",
    "\n",
    "    # S: m x n_component\n",
    "    S = S[:, :n_component]\n",
    "\n",
    "    # First n_component rows of VT. Rows of VT are principal component directions.\n",
    "    Vh = Vh[:n_component, :]\n",
    "\n",
    "    # Reconstruct low rank approximation of matrix\n",
    "    P = U.dot(S)\n",
    "    \n",
    "    if len(arr) == 0:\n",
    "        arr = np.array([P.flatten()])\n",
    "    else:\n",
    "        arr = np.vstack((arr, P.flatten()))\n",
    "    return arr\n",
    "\n",
    "def reduce2(x_, arr):\n",
    "    svd = TruncatedSVD(n_components=2)\n",
    "    x = x_.reshape((8, 8))\n",
    "    P = svd.fit_transform(x)\n",
    "    \n",
    "    if len(arr) == 0:\n",
    "        arr = np.array([P.flatten()])\n",
    "    else:\n",
    "        arr = np.vstack((arr, P.flatten()))\n",
    "    return arr"
   ]
  },
  {
   "cell_type": "code",
   "execution_count": 7,
   "metadata": {},
   "outputs": [
    {
     "name": "stdout",
     "output_type": "stream",
     "text": [
      "X_low_tr Shape: (1347, 16)\n",
      "X_low_te Shape: (450, 16)\n"
     ]
    }
   ],
   "source": [
    "X_low_tr = np.array([])\n",
    "X_low_te = np.array([])\n",
    "for x_ in X_tr:\n",
    "    X_low_tr = reduce(x_, X_low_tr)\n",
    "for x_ in X_te:\n",
    "    X_low_te = reduce(x_, X_low_te)\n",
    "\n",
    "print('X_low_tr Shape: {}'.format(X_low_tr.shape))\n",
    "print('X_low_te Shape: {}'.format(X_low_te.shape))"
   ]
  },
  {
   "cell_type": "code",
   "execution_count": 8,
   "metadata": {},
   "outputs": [
    {
     "name": "stdout",
     "output_type": "stream",
     "text": [
      "X_low2_tr Shape: (1347, 16)\n",
      "X_low2_te Shape: (450, 16)\n"
     ]
    }
   ],
   "source": [
    "X_low2_tr = np.array([])\n",
    "X_low2_te = np.array([])\n",
    "for x_ in X_tr:\n",
    "    X_low2_tr = reduce2(x_, X_low2_tr)\n",
    "for x_ in X_te:\n",
    "    X_low2_te = reduce2(x_, X_low2_te)\n",
    "\n",
    "print('X_low2_tr Shape: {}'.format(X_low2_tr.shape))\n",
    "print('X_low2_te Shape: {}'.format(X_low2_te.shape))"
   ]
  },
  {
   "cell_type": "code",
   "execution_count": 9,
   "metadata": {},
   "outputs": [],
   "source": [
    "def reduce3(X_tr_, n_component=None, V=None):\n",
    "    if V is None:\n",
    "        # image: m x n, U: m x m, s: min(n, m) vector, V: n x n\n",
    "        U, s, Vh = np.linalg.svd(X_tr_)\n",
    "\n",
    "        # First n_component rows of VT. Rows of VT are principal component directions.\n",
    "        Vh = Vh[:n_component, :]\n",
    "\n",
    "        # Reduced Data\n",
    "        return X_tr_.dot(Vh.T), Vh.T\n",
    "    else:\n",
    "        return X_tr_.dot(V)\n"
   ]
  },
  {
   "cell_type": "code",
   "execution_count": 10,
   "metadata": {},
   "outputs": [
    {
     "name": "stdout",
     "output_type": "stream",
     "text": [
      "X_reduced_tr Shape: (1347, 16)\n",
      "X_reduced_te Shape: (450, 16)\n"
     ]
    }
   ],
   "source": [
    "X_reduced_tr, V = reduce3(X_tr, 16)\n",
    "X_reduced_te = reduce3(X_te, V=V)\n",
    "print('X_reduced_tr Shape: {}'.format(X_reduced_tr.shape))\n",
    "print('X_reduced_te Shape: {}'.format(X_reduced_te.shape))"
   ]
  },
  {
   "cell_type": "code",
   "execution_count": 12,
   "metadata": {},
   "outputs": [],
   "source": [
    "def rf_model(model, X_tr_, X_te_, y_tr_, y_te_):\n",
    "    rf = RandomForestClassifier(n_estimators=500, random_state=42)\n",
    "    rf.fit(X_tr_, y_tr_)\n",
    "    predictions = rf.predict(X_te_)\n",
    "    accuracy = round((sum(predictions == y_te_)/y_te_.shape[0]) * 100, 2)\n",
    "    print(model + ' Accuracy: {}%'.format(accuracy))"
   ]
  },
  {
   "cell_type": "code",
   "execution_count": 13,
   "metadata": {
    "scrolled": true
   },
   "outputs": [
    {
     "name": "stdout",
     "output_type": "stream",
     "text": [
      "Original Data Accuracy: 97.56%\n"
     ]
    }
   ],
   "source": [
    "rf_model('Original Data', X_tr, X_te, y_tr, y_te)"
   ]
  },
  {
   "cell_type": "code",
   "execution_count": 14,
   "metadata": {
    "scrolled": true
   },
   "outputs": [
    {
     "name": "stdout",
     "output_type": "stream",
     "text": [
      "Numpy SVD on individual images, Accuracy: 91.11%\n"
     ]
    }
   ],
   "source": [
    "rf_model('Numpy SVD on individual images,', X_low_tr, X_low_te, y_tr, y_te)"
   ]
  },
  {
   "cell_type": "code",
   "execution_count": 15,
   "metadata": {},
   "outputs": [
    {
     "name": "stdout",
     "output_type": "stream",
     "text": [
      "Truncated SVD on individual images, Accuracy: 92.67%\n"
     ]
    }
   ],
   "source": [
    "rf_model('Truncated SVD on individual images,', X_low2_tr, X_low2_te, y_tr, y_te)"
   ]
  },
  {
   "cell_type": "code",
   "execution_count": 18,
   "metadata": {},
   "outputs": [
    {
     "name": "stdout",
     "output_type": "stream",
     "text": [
      "SVD on training set with principal directions preserved from training, Accuracy: 97.11%\n"
     ]
    }
   ],
   "source": [
    "rf_model('SVD on training set with principal directions preserved from training,', X_reduced_tr, X_reduced_te, y_tr, y_te)"
   ]
  },
  {
   "cell_type": "markdown",
   "metadata": {},
   "source": [
    "This analysis reveals that SVD can be used as a means to reduce the number of features required to create an effective classifier for handwritten digits. Two different methods of dimensionality reduction were compared in the analysis:\n",
    "\n",
    "- Using SVD to reduce dimensions of training set and then using principal direction vectors derrived from training set to reduce test set.\n",
    "- Using SVD to independently reduce dimensions of each image feature vector, by preserving only two features per pixel row in image.\n",
    "\n",
    "Both results yielded high levels of accuracy, with the method where SVD was applied on the whole training set yielding results that were almost identical to the accuracy of the classifier trained on the orginal data. Given $m > n$ for a $m \\times n$ matrix, the worst case algorithmic complexity of applying SVD is $O(mn^2)$. In the method above where SVD is applied independently to each image feature vector, this complexity reduces to $O(mn^{1.5})$. For large values of $n$ this can translate into significant time savings when training a model. Furthermore, this method is also advantageous for online learning workflows as new data can be reduced independently before being included in training sets. "
   ]
  }
 ],
 "metadata": {
  "kernelspec": {
   "display_name": "Python 3",
   "language": "python",
   "name": "python3"
  },
  "language_info": {
   "codemirror_mode": {
    "name": "ipython",
    "version": 3
   },
   "file_extension": ".py",
   "mimetype": "text/x-python",
   "name": "python",
   "nbconvert_exporter": "python",
   "pygments_lexer": "ipython3",
   "version": "3.6.8"
  }
 },
 "nbformat": 4,
 "nbformat_minor": 2
}
